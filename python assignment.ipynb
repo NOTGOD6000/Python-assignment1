{
  "nbformat": 4,
  "nbformat_minor": 0,
  "metadata": {
    "colab": {
      "provenance": [],
      "authorship_tag": "ABX9TyMy32Mzh6iN7WTWhXoFrwqj",
      "include_colab_link": true
    },
    "kernelspec": {
      "name": "python3",
      "display_name": "Python 3"
    },
    "language_info": {
      "name": "python"
    }
  },
  "cells": [
    {
      "cell_type": "markdown",
      "metadata": {
        "id": "view-in-github",
        "colab_type": "text"
      },
      "source": [
        "<a href=\"https://colab.research.google.com/github/NOTGOD6000/Python-assignment1/blob/main/python%20assignment.ipynb\" target=\"_parent\"><img src=\"https://colab.research.google.com/assets/colab-badge.svg\" alt=\"Open In Colab\"/></a>"
      ]
    },
    {
      "cell_type": "markdown",
      "source": [
        "Q1  L is a list defined as L= [11, 12, 13, 14].\n",
        "\n",
        "    (i)WAP to add 50 and 60 to L"
      ],
      "metadata": {
        "id": "Lj7WRIwubThg"
      }
    },
    {
      "cell_type": "code",
      "execution_count": null,
      "metadata": {
        "colab": {
          "base_uri": "https://localhost:8080/"
        },
        "id": "IBAjdVr6bNAs",
        "outputId": "14135eb1-9409-428a-e691-af889997fa36"
      },
      "outputs": [
        {
          "output_type": "stream",
          "name": "stdout",
          "text": [
            "[11, 12, 13, 14, 50, 60]\n"
          ]
        }
      ],
      "source": [
        "L= [11, 12, 13, 14]\n",
        "L.append(50)\n",
        "L.append(60)\n",
        "print(L)\n"
      ]
    },
    {
      "cell_type": "markdown",
      "source": [
        "(ii)WAP to remove 11 and 13 from L"
      ],
      "metadata": {
        "id": "lo98DHqnbR4I"
      }
    },
    {
      "cell_type": "code",
      "source": [
        "L=[11,12,13,14]\n",
        "L.pop(0)\n",
        "L.pop(1)\n",
        "print(L)"
      ],
      "metadata": {
        "colab": {
          "base_uri": "https://localhost:8080/"
        },
        "id": "aZ5gLQSXcbet",
        "outputId": "9c4e2d0e-113f-461a-cba1-d1afa0855894"
      },
      "execution_count": null,
      "outputs": [
        {
          "output_type": "stream",
          "name": "stdout",
          "text": [
            "[12, 14]\n"
          ]
        }
      ]
    },
    {
      "cell_type": "markdown",
      "source": [
        "(iii) WAP to sort L in ascending order."
      ],
      "metadata": {
        "id": "xQkLiRtSc86J"
      }
    },
    {
      "cell_type": "code",
      "source": [
        "L=[11,12,13,14]\n",
        "L.sort()\n",
        "print(L)"
      ],
      "metadata": {
        "colab": {
          "base_uri": "https://localhost:8080/"
        },
        "id": "oxSNDC08dAoJ",
        "outputId": "e0246e5c-a45a-476f-aad2-0c52e735a470"
      },
      "execution_count": null,
      "outputs": [
        {
          "output_type": "stream",
          "name": "stdout",
          "text": [
            "[11, 12, 13, 14]\n"
          ]
        }
      ]
    },
    {
      "cell_type": "markdown",
      "source": [
        "(iv) WAP to sort L in descending order."
      ],
      "metadata": {
        "id": "fh_0H2nxdSn4"
      }
    },
    {
      "cell_type": "code",
      "source": [
        "L=[11,12,13,14]\n",
        "L.sort(reverse=True)\n",
        "print(L)"
      ],
      "metadata": {
        "colab": {
          "base_uri": "https://localhost:8080/"
        },
        "id": "mOv42I0FdNib",
        "outputId": "25c67ea5-8c38-4074-dcbb-16e5da9a49b0"
      },
      "execution_count": null,
      "outputs": [
        {
          "output_type": "stream",
          "name": "stdout",
          "text": [
            "[14, 13, 12, 11]\n"
          ]
        }
      ]
    },
    {
      "cell_type": "markdown",
      "source": [
        "(v)WAP to search for 13 in L"
      ],
      "metadata": {
        "id": "iLrQw1KidWq_"
      }
    },
    {
      "cell_type": "code",
      "source": [
        "L=[11,12,13,14]\n",
        "if 13 in L:\n",
        "    print(\"Search successful:\", 13, \"found at index\", L.index(13))\n",
        "else:\n",
        "    print(\"Search unsuccessful\")\n"
      ],
      "metadata": {
        "colab": {
          "base_uri": "https://localhost:8080/"
        },
        "id": "CnrpbTrydd9T",
        "outputId": "da13e6ed-6db0-41cb-e4a4-7051dc00231a"
      },
      "execution_count": null,
      "outputs": [
        {
          "output_type": "stream",
          "name": "stdout",
          "text": [
            "Search successful: 13 found at index 2\n"
          ]
        }
      ]
    },
    {
      "cell_type": "markdown",
      "source": [
        "(vi)WAP to count the number of elements present in L.\n",
        "\n"
      ],
      "metadata": {
        "id": "SYni9iD-hnQD"
      }
    },
    {
      "cell_type": "code",
      "source": [
        "L=[11,12,13,14]\n",
        "print(len(L))"
      ],
      "metadata": {
        "colab": {
          "base_uri": "https://localhost:8080/"
        },
        "id": "5CaYccdihlFK",
        "outputId": "f3a8b6ec-93b8-416b-832b-14a0f67d7f30"
      },
      "execution_count": null,
      "outputs": [
        {
          "output_type": "stream",
          "name": "stdout",
          "text": [
            "4\n"
          ]
        }
      ]
    },
    {
      "cell_type": "markdown",
      "source": [
        "(vii)WAP to sum all the elements in L.\n"
      ],
      "metadata": {
        "id": "jYzYb_REh-7f"
      }
    },
    {
      "cell_type": "code",
      "source": [
        "L=[11,12,13,14]\n",
        "print(sum(L))"
      ],
      "metadata": {
        "colab": {
          "base_uri": "https://localhost:8080/"
        },
        "id": "G5fwGpexidSZ",
        "outputId": "8c0ff6e3-a436-40e5-d8d5-5fc90bbe4775"
      },
      "execution_count": null,
      "outputs": [
        {
          "output_type": "stream",
          "name": "stdout",
          "text": [
            "50\n"
          ]
        }
      ]
    },
    {
      "cell_type": "markdown",
      "source": [
        "(viii) WAP to sum all ODD numbers in L"
      ],
      "metadata": {
        "id": "FYjNoYXxiSn1"
      }
    },
    {
      "cell_type": "code",
      "source": [
        "L=[11,12,13,14]\n",
        "sum_odd = 0\n",
        "\n",
        "for num in L:\n",
        "    if num % 2 != 0:\n",
        "        sum_odd += num\n",
        "\n",
        "print(\"Sum of all odd numbers in L:\", sum_odd)\n"
      ],
      "metadata": {
        "colab": {
          "base_uri": "https://localhost:8080/"
        },
        "id": "ldiZ04ufin4v",
        "outputId": "ccccf786-33e3-467f-b71b-a50f35ddb5b7"
      },
      "execution_count": null,
      "outputs": [
        {
          "output_type": "stream",
          "name": "stdout",
          "text": [
            "Sum of all odd numbers in L: 24\n"
          ]
        }
      ]
    },
    {
      "cell_type": "markdown",
      "source": [
        "(ix) WAP to sum all EVEN numbers in l\n",
        "\n",
        "\n",
        "(x) WAP to sum all PRIME numbers in L.\n",
        "\n",
        "\n",
        "(xi) WAP to clear all the elements in L.\n",
        "\n",
        "\n",
        "\n",
        "(xii) WAP to delete L.\n",
        "\n"
      ],
      "metadata": {
        "id": "yB_XtIhnps3W"
      }
    },
    {
      "cell_type": "code",
      "source": [
        "#prints sum for all even number\n",
        "L=[11,12,13,14]\n",
        "sum_even = 0\n",
        "\n",
        "for num in L:\n",
        "    if num % 2 == 0:\n",
        "        sum_even += num\n",
        "\n",
        "print(\"Sum of all even numbers in L:\", sum_even)\n",
        "\n",
        "#print sum of all prime number\n",
        "L=[11,12,13,14]\n",
        "def is_prime(n):\n",
        "    if n < 2:\n",
        "        return False\n",
        "    for i in range(2, n//2+1):\n",
        "        if n % i == 0:\n",
        "            return False\n",
        "    return True\n",
        "print('sum of all prime no is',sum(x for x in L if is_prime(x)))\n",
        "\n",
        "#clear list\n",
        "L.clear()\n",
        "print(L)\n",
        "#delete list\n",
        "del L\n"
      ],
      "metadata": {
        "id": "EnlpfbBtqKcZ",
        "outputId": "5631db80-8c4d-45b2-f325-587d9f1ae471",
        "colab": {
          "base_uri": "https://localhost:8080/"
        }
      },
      "execution_count": 7,
      "outputs": [
        {
          "output_type": "stream",
          "name": "stdout",
          "text": [
            "Sum of all even numbers in L: 26\n",
            "sum of all prime no is 24\n",
            "[]\n"
          ]
        }
      ]
    }
  ]
}