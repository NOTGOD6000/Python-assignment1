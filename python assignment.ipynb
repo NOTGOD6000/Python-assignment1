{
  "nbformat": 4,
  "nbformat_minor": 0,
  "metadata": {
    "colab": {
      "provenance": [],
      "authorship_tag": "ABX9TyMlHnhZLvjzdHybNlxMJ4aP",
      "include_colab_link": true
    },
    "kernelspec": {
      "name": "python3",
      "display_name": "Python 3"
    },
    "language_info": {
      "name": "python"
    }
  },
  "cells": [
    {
      "cell_type": "markdown",
      "metadata": {
        "id": "view-in-github",
        "colab_type": "text"
      },
      "source": [
        "<a href=\"https://colab.research.google.com/github/NOTGOD6000/Python-assignment1/blob/main/python%20assignment.ipynb\" target=\"_parent\"><img src=\"https://colab.research.google.com/assets/colab-badge.svg\" alt=\"Open In Colab\"/></a>"
      ]
    },
    {
      "cell_type": "markdown",
      "source": [
        "Q1  L is a list defined as L= [11, 12, 13, 14].\n",
        "\n",
        "    (i)WAP to add 50 and 60 to L"
      ],
      "metadata": {
        "id": "Lj7WRIwubThg"
      }
    },
    {
      "cell_type": "code",
      "execution_count": null,
      "metadata": {
        "colab": {
          "base_uri": "https://localhost:8080/"
        },
        "id": "IBAjdVr6bNAs",
        "outputId": "14135eb1-9409-428a-e691-af889997fa36"
      },
      "outputs": [
        {
          "output_type": "stream",
          "name": "stdout",
          "text": [
            "[11, 12, 13, 14, 50, 60]\n"
          ]
        }
      ],
      "source": [
        "L= [11, 12, 13, 14]\n",
        "L.append(50)\n",
        "L.append(60)\n",
        "print(L)\n"
      ]
    },
    {
      "cell_type": "markdown",
      "source": [
        "(ii)WAP to remove 11 and 13 from L"
      ],
      "metadata": {
        "id": "lo98DHqnbR4I"
      }
    },
    {
      "cell_type": "code",
      "source": [
        "L=[11,12,13,14]\n",
        "L.pop(0)\n",
        "L.pop(1)\n",
        "print(L)"
      ],
      "metadata": {
        "colab": {
          "base_uri": "https://localhost:8080/"
        },
        "id": "aZ5gLQSXcbet",
        "outputId": "9c4e2d0e-113f-461a-cba1-d1afa0855894"
      },
      "execution_count": null,
      "outputs": [
        {
          "output_type": "stream",
          "name": "stdout",
          "text": [
            "[12, 14]\n"
          ]
        }
      ]
    },
    {
      "cell_type": "markdown",
      "source": [
        "(iii) WAP to sort L in ascending order."
      ],
      "metadata": {
        "id": "xQkLiRtSc86J"
      }
    },
    {
      "cell_type": "code",
      "source": [
        "L=[11,12,13,14]\n",
        "L.sort()\n",
        "print(L)"
      ],
      "metadata": {
        "colab": {
          "base_uri": "https://localhost:8080/"
        },
        "id": "oxSNDC08dAoJ",
        "outputId": "e0246e5c-a45a-476f-aad2-0c52e735a470"
      },
      "execution_count": null,
      "outputs": [
        {
          "output_type": "stream",
          "name": "stdout",
          "text": [
            "[11, 12, 13, 14]\n"
          ]
        }
      ]
    },
    {
      "cell_type": "markdown",
      "source": [
        "(iv) WAP to sort L in descending order."
      ],
      "metadata": {
        "id": "fh_0H2nxdSn4"
      }
    },
    {
      "cell_type": "code",
      "source": [
        "L=[11,12,13,14]\n",
        "L.sort(reverse=True)\n",
        "print(L)"
      ],
      "metadata": {
        "colab": {
          "base_uri": "https://localhost:8080/"
        },
        "id": "mOv42I0FdNib",
        "outputId": "25c67ea5-8c38-4074-dcbb-16e5da9a49b0"
      },
      "execution_count": null,
      "outputs": [
        {
          "output_type": "stream",
          "name": "stdout",
          "text": [
            "[14, 13, 12, 11]\n"
          ]
        }
      ]
    },
    {
      "cell_type": "markdown",
      "source": [
        "(v)WAP to search for 13 in L"
      ],
      "metadata": {
        "id": "iLrQw1KidWq_"
      }
    },
    {
      "cell_type": "code",
      "source": [
        "L=[11,12,13,14]\n",
        "if 13 in L:\n",
        "    print(\"Search successful:\", 13, \"found at index\", L.index(13))\n",
        "else:\n",
        "    print(\"Search unsuccessful\")\n"
      ],
      "metadata": {
        "colab": {
          "base_uri": "https://localhost:8080/"
        },
        "id": "CnrpbTrydd9T",
        "outputId": "da13e6ed-6db0-41cb-e4a4-7051dc00231a"
      },
      "execution_count": null,
      "outputs": [
        {
          "output_type": "stream",
          "name": "stdout",
          "text": [
            "Search successful: 13 found at index 2\n"
          ]
        }
      ]
    },
    {
      "cell_type": "markdown",
      "source": [
        "(vi)WAP to count the number of elements present in L.\n",
        "\n"
      ],
      "metadata": {
        "id": "SYni9iD-hnQD"
      }
    },
    {
      "cell_type": "code",
      "source": [
        "L=[11,12,13,14]\n",
        "print(len(L))"
      ],
      "metadata": {
        "colab": {
          "base_uri": "https://localhost:8080/"
        },
        "id": "5CaYccdihlFK",
        "outputId": "f3a8b6ec-93b8-416b-832b-14a0f67d7f30"
      },
      "execution_count": null,
      "outputs": [
        {
          "output_type": "stream",
          "name": "stdout",
          "text": [
            "4\n"
          ]
        }
      ]
    },
    {
      "cell_type": "markdown",
      "source": [
        "(vii)WAP to sum all the elements in L.\n"
      ],
      "metadata": {
        "id": "jYzYb_REh-7f"
      }
    },
    {
      "cell_type": "code",
      "source": [
        "L=[11,12,13,14]\n",
        "print(sum(L))"
      ],
      "metadata": {
        "colab": {
          "base_uri": "https://localhost:8080/"
        },
        "id": "G5fwGpexidSZ",
        "outputId": "8c0ff6e3-a436-40e5-d8d5-5fc90bbe4775"
      },
      "execution_count": null,
      "outputs": [
        {
          "output_type": "stream",
          "name": "stdout",
          "text": [
            "50\n"
          ]
        }
      ]
    },
    {
      "cell_type": "markdown",
      "source": [
        "(viii) WAP to sum all ODD numbers in L"
      ],
      "metadata": {
        "id": "FYjNoYXxiSn1"
      }
    },
    {
      "cell_type": "code",
      "source": [
        "L=[11,12,13,14]\n",
        "sum_odd = 0\n",
        "\n",
        "for num in L:\n",
        "    if num % 2 != 0:\n",
        "        sum_odd += num\n",
        "\n",
        "print(\"Sum of all odd numbers in L:\", sum_odd)\n"
      ],
      "metadata": {
        "colab": {
          "base_uri": "https://localhost:8080/"
        },
        "id": "ldiZ04ufin4v",
        "outputId": "ccccf786-33e3-467f-b71b-a50f35ddb5b7"
      },
      "execution_count": null,
      "outputs": [
        {
          "output_type": "stream",
          "name": "stdout",
          "text": [
            "Sum of all odd numbers in L: 24\n"
          ]
        }
      ]
    },
    {
      "cell_type": "markdown",
      "source": [
        "(ix) WAP to sum all EVEN numbers in l\n",
        "\n",
        "\n",
        "(x) WAP to sum all PRIME numbers in L.\n",
        "\n",
        "\n",
        "(xi) WAP to clear all the elements in L.\n",
        "\n",
        "\n",
        "\n",
        "(xii) WAP to delete L.\n",
        "\n"
      ],
      "metadata": {
        "id": "yB_XtIhnps3W"
      }
    },
    {
      "cell_type": "code",
      "source": [
        "#prints sum for all even number\n",
        "L=[11,12,13,14]\n",
        "sum_even = 0\n",
        "\n",
        "for num in L:\n",
        "    if num % 2 == 0:\n",
        "        sum_even += num\n",
        "\n",
        "print(\"Sum of all even numbers in L:\", sum_even)\n",
        "\n",
        "#print sum of all prime number\n",
        "L=[11,12,13,14]\n",
        "def is_prime(n):\n",
        "    if n < 2:\n",
        "        return False\n",
        "    for i in range(2, n//2+1):\n",
        "        if n % i == 0:\n",
        "            return False\n",
        "    return True\n",
        "print('sum of all prime no is',sum(x for x in L if is_prime(x)))\n",
        "\n",
        "#clear list\n",
        "L.clear()\n",
        "print(L)\n",
        "#delete list\n",
        "del L\n"
      ],
      "metadata": {
        "colab": {
          "base_uri": "https://localhost:8080/"
        },
        "id": "EnlpfbBtqKcZ",
        "outputId": "5631db80-8c4d-45b2-f325-587d9f1ae471"
      },
      "execution_count": 7,
      "outputs": [
        {
          "output_type": "stream",
          "name": "stdout",
          "text": [
            "Sum of all even numbers in L: 26\n",
            "sum of all prime no is 24\n",
            "[]\n"
          ]
        }
      ]
    },
    {
      "cell_type": "markdown",
      "source": [
        "Q2. D is a dictionary defined as D= {1:5.6, 2:7.8, 3:6.6, 4:8.7, 5:7.7}.\n",
        "\n",
        " (i) WAP to add new entry in D; key=8 and value is 8.8\n",
        "\n",
        " (ii) WAP to remove key=2.\n",
        "\n",
        " (iii) WAP to check weather 6 key is present in D.\n",
        "\n",
        " (iv) WAP to count the number of elements present in D.\n",
        "\n",
        "(v) WAP to add all the values present D.\n",
        "\n",
        "(vi) WAP to update the value of 3 to 7.1.\n",
        "\n",
        "(vii)WAP to clear the dictionary."
      ],
      "metadata": {
        "id": "tyxkwKI6uQWB"
      }
    },
    {
      "cell_type": "code",
      "source": [
        "#dictionary operation\n",
        "D = {1:5.6, 2:7.8, 3:6.6, 4:8.7, 5:7.7}\n",
        "#adding\n",
        "D[8] = 8.8\n",
        "print(\"after adding=\",D)\n",
        "#pop element\n",
        "D.pop(2)\n",
        "print(\"after pop=\",D)\n",
        "#find element\n",
        "print(6 in D)\n",
        "#print length\n",
        "print(len(D))\n",
        "#print sum\n",
        "print(\"sum=\",sum(D.values()))\n",
        "#update value\n",
        "D[3] = 7.1\n",
        "print(\"after update\",D)\n",
        "#for clear\n",
        "D.clear()\n"
      ],
      "metadata": {
        "colab": {
          "base_uri": "https://localhost:8080/"
        },
        "id": "wEZRPz27ut_c",
        "outputId": "941e5531-bfb6-452b-8993-c6a6876c1af9"
      },
      "execution_count": 11,
      "outputs": [
        {
          "output_type": "stream",
          "name": "stdout",
          "text": [
            "after adding= {1: 5.6, 2: 7.8, 3: 6.6, 4: 8.7, 5: 7.7, 8: 8.8}\n",
            "after pop= {1: 5.6, 3: 6.6, 4: 8.7, 5: 7.7, 8: 8.8}\n",
            "False\n",
            "5\n",
            "sum= 37.4\n",
            "after update {1: 5.6, 3: 7.1, 4: 8.7, 5: 7.7, 8: 8.8}\n"
          ]
        }
      ]
    },
    {
      "cell_type": "markdown",
      "source": [
        "Q3. S1 is a set defined as S1= [10, 20, 30, 40, 50, 60].\n",
        "\n",
        "  S2 is a set defined as S2= [40, 50, 60, 70, 80, 90].\n",
        "\n",
        "(i)  WAP to add 55 and 66 in Set S1.\n",
        "\n",
        "(ii) WAP to remove 10 and 30 from Set S1.\n",
        "\n",
        "(iii) WAP to check whether 40 is present in S1.\n",
        "\n",
        "(iv) WAP to find the union between S1 and S2.\n",
        "\n",
        "(v) WAP to find the intersection between S1 and S2.\n",
        "\n",
        "(vi) WAP to find the S1 - S2."
      ],
      "metadata": {
        "id": "yj1pmEflwM_1"
      }
    },
    {
      "cell_type": "code",
      "source": [
        "#Set operations\n",
        "S1 = {10, 20, 30, 40, 50, 60}\n",
        "S2 = {40, 50, 60, 70, 80, 90}\n",
        "\n",
        "#Adding\n",
        "S1.add(55)\n",
        "S1.add(66)\n",
        "print(\"after Adding=\",S1)\n",
        "\n",
        "#Removing\n",
        "S1.remove(10)\n",
        "S1.remove(30)\n",
        "print(\"after Removing=\",S1)\n",
        "\n",
        "#Check\n",
        "print(40 in S1)\n",
        "\n",
        "#Union\n",
        "print(\"Union\",S1.union(S2))\n",
        "\n",
        "#Intersection\n",
        "print(\"Intersection\",S1.intersection(S2))\n",
        "\n",
        "#Difference\n",
        "print(\"difference\",S1.difference(S2))\n"
      ],
      "metadata": {
        "colab": {
          "base_uri": "https://localhost:8080/"
        },
        "id": "ZSzkFLTMwtl2",
        "outputId": "338b23a3-3fea-4cd3-d922-be7044dc5ed7"
      },
      "execution_count": 13,
      "outputs": [
        {
          "output_type": "stream",
          "name": "stdout",
          "text": [
            "after Adding= {50, 66, 20, 55, 40, 10, 60, 30}\n",
            "after Removing= {50, 66, 20, 55, 40, 60}\n",
            "True\n",
            "Union {66, 70, 40, 80, 50, 20, 55, 90, 60}\n",
            "Intersection {40, 50, 60}\n",
            "difference {66, 20, 55}\n"
          ]
        }
      ]
    },
    {
      "cell_type": "markdown",
      "source": [
        "Q4. Write the following program.\n",
        "\n",
        "(i) WAP to print 100 random strings whose length between 6 and 8.\n",
        "\n",
        "(ii) WAP to print all prime numbers between 600 and 800.\n",
        "\n",
        "(iii)WAP to print all numbers between 100 and 1000 that are divisible by7 and 9."
      ],
      "metadata": {
        "id": "PmSMMZl1yDF6"
      }
    },
    {
      "cell_type": "code",
      "source": [
        "#print random string\n",
        "import random\n",
        "import string\n",
        "\n",
        "for i in range(100):\n",
        "    length = random.randint(6, 8)\n",
        "    rand_str = ''.join(random.choices(string.ascii_letters , k=length))\n",
        "    print(rand_str)\n",
        "#print Prime number\n",
        "def prime(n):\n",
        "    if n < 2:\n",
        "        return False\n",
        "    for i in range(2, int(n//2)+1):\n",
        "        if n % i == 0:\n",
        "            return False\n",
        "    return True\n",
        "\n",
        "for i in range(600, 801):\n",
        "    if prime(i):\n",
        "        print(i)\n",
        "#Print divsible  no. between 7 and 9\n",
        "for i in range(100, 1001):\n",
        "    if i % 7 == 0 and i % 9 == 0:\n",
        "        print(i)\n"
      ],
      "metadata": {
        "colab": {
          "base_uri": "https://localhost:8080/"
        },
        "id": "JpuzSyYPyZIa",
        "outputId": "a030ba92-5d0e-4cd6-beb1-53d4df93184c"
      },
      "execution_count": 16,
      "outputs": [
        {
          "output_type": "stream",
          "name": "stdout",
          "text": [
            "BgveFAAD\n",
            "qElWAS\n",
            "wLspRt\n",
            "xYbVyxK\n",
            "JoAEDAAw\n",
            "HUCxEpj\n",
            "LsIUiYZv\n",
            "UhTIRM\n",
            "ZcITNXNN\n",
            "ICdpzH\n",
            "OMwwwK\n",
            "IkBBav\n",
            "NciKtdW\n",
            "SOeAPV\n",
            "hleWFGJ\n",
            "abpXar\n",
            "drTdzJ\n",
            "cXjFhOe\n",
            "BtRDqfM\n",
            "KXjAhsmb\n",
            "iKVVXj\n",
            "nkwMoW\n",
            "YsyAstjg\n",
            "uXAEax\n",
            "RLetWU\n",
            "vrJTenw\n",
            "oGRbUe\n",
            "MrRUBpU\n",
            "veIVfks\n",
            "cLMOtN\n",
            "qShvOij\n",
            "yfegqc\n",
            "uSWtJrGF\n",
            "oTmulJ\n",
            "ALhYbbW\n",
            "KBjLWvMZ\n",
            "FeYSikmz\n",
            "xeTyFYC\n",
            "JwMBDS\n",
            "tpqrdwQB\n",
            "beLAzWa\n",
            "FYxrNSK\n",
            "ejpgwWz\n",
            "EItnwLOT\n",
            "jolqWR\n",
            "UKwdbjT\n",
            "qlmsReqd\n",
            "Zlliihs\n",
            "QBKQvW\n",
            "NzkrAvz\n",
            "CjkMjdH\n",
            "YkoKfk\n",
            "CHHpyVpc\n",
            "ypAbUbYj\n",
            "ymfHwfSY\n",
            "nWfFMk\n",
            "SaIcXeqy\n",
            "cLEhph\n",
            "BwudRO\n",
            "kwLGNdhn\n",
            "rSpWPZTj\n",
            "stkNRhu\n",
            "gPokupM\n",
            "eEQnQH\n",
            "dqjibATT\n",
            "YbNzHH\n",
            "awSRDlw\n",
            "UVSerN\n",
            "WrLDPjwI\n",
            "JIiSoMaQ\n",
            "nRQPWMA\n",
            "jdtqXBbc\n",
            "GrCOqDf\n",
            "JZoKAWc\n",
            "Rsdequ\n",
            "qivPUzv\n",
            "fpSQbrga\n",
            "qLcADQqn\n",
            "okDNnVQ\n",
            "DqVNScl\n",
            "syogtOev\n",
            "GEggDGCl\n",
            "bJeQBJ\n",
            "KgheFXv\n",
            "dZkXasyK\n",
            "GFFoLJ\n",
            "ydopUKBJ\n",
            "PIXfiBu\n",
            "nogGWfy\n",
            "UISBkTY\n",
            "jmLorpQ\n",
            "eViWrSz\n",
            "GjRecFQ\n",
            "ZavajZPc\n",
            "cPaHPvE\n",
            "akkbJHb\n",
            "aIvhlRtt\n",
            "XRPoADP\n",
            "sHyIThqz\n",
            "KTOoVdC\n",
            "601\n",
            "607\n",
            "613\n",
            "617\n",
            "619\n",
            "631\n",
            "641\n",
            "643\n",
            "647\n",
            "653\n",
            "659\n",
            "661\n",
            "673\n",
            "677\n",
            "683\n",
            "691\n",
            "701\n",
            "709\n",
            "719\n",
            "727\n",
            "733\n",
            "739\n",
            "743\n",
            "751\n",
            "757\n",
            "761\n",
            "769\n",
            "773\n",
            "787\n",
            "797\n",
            "126\n",
            "189\n",
            "252\n",
            "315\n",
            "378\n",
            "441\n",
            "504\n",
            "567\n",
            "630\n",
            "693\n",
            "756\n",
            "819\n",
            "882\n",
            "945\n"
          ]
        }
      ]
    },
    {
      "cell_type": "markdown",
      "source": [
        "Q5. WAP to create two lists of 10 random numbers between 10 and 30; Find\n",
        "\n",
        "(i)Common numbers in the two lists\n",
        "\n",
        "(ii) Unique numbers in both the list\n",
        "\n",
        "(iii)Minimum in both the list\n",
        "\n",
        "(iv) Maximum in both the list\n",
        "\n",
        "(v) Sum of both the lists"
      ],
      "metadata": {
        "id": "j6Y_NRej0jfy"
      }
    },
    {
      "cell_type": "code",
      "source": [
        "import random\n",
        "\n",
        "# Create two lists with 10 random numbers between 10 and 30\n",
        "list1 = [random.randint(10, 30) for i in range(10)]\n",
        "list2 = [random.randint(10, 30) for i in range(10)]\n",
        "\n",
        "print(\"List 1:\", list1)\n",
        "print(\"List 2:\", list2)\n",
        "\n",
        "# Common no.\n",
        "common = list(set(list1) & set(list2))\n",
        "print(\"Common numbers:\", common)\n",
        "\n",
        "# Unique numbers in both lists\n",
        "unique = list(set(list1) ^ set(list2))\n",
        "print(\"Unique numbers =\", unique)\n",
        "\n",
        "# Minimum in both lists\n",
        "print(\"Min in List 1=\", min(list1))\n",
        "print(\"Min in List 2=\", min(list2))\n",
        "\n",
        "# Maximum in both lists\n",
        "print(\"Max in List 1=\", max(list1))\n",
        "print(\"Max in  List 2=\", max(list2))\n",
        "\n",
        "# Sum of both lists\n",
        "print(\"Sum of List 1=\", sum(list1))\n",
        "print(\"Sum of List 2=\", sum(list2))\n",
        "print(\"Total =\", sum(list1) + sum(list2))\n"
      ],
      "metadata": {
        "colab": {
          "base_uri": "https://localhost:8080/"
        },
        "id": "BHklnwb60ruT",
        "outputId": "3dab84a3-6cbe-4ab7-e626-93819dca875a"
      },
      "execution_count": 19,
      "outputs": [
        {
          "output_type": "stream",
          "name": "stdout",
          "text": [
            "List 1: [24, 21, 20, 26, 19, 23, 22, 26, 30, 20]\n",
            "List 2: [22, 24, 15, 26, 28, 15, 29, 17, 22, 14]\n",
            "Common numbers: [24, 26, 22]\n",
            "Unique numbers = [14, 15, 17, 19, 20, 21, 23, 28, 29, 30]\n",
            "Min in List 1= 19\n",
            "Min in List 2= 14\n",
            "Max in List 1= 30\n",
            "Max in  List 2= 29\n",
            "Sum of List 1= 231\n",
            "Sum of List 2= 212\n",
            "Total = 443\n"
          ]
        }
      ]
    },
    {
      "cell_type": "markdown",
      "source": [
        "Q6. WAP to create a list of 100 random numbers between 100 and 900.\n",
        "\n",
        "Count and print the:\n",
        "\n",
        "(i) All odd numbers\n",
        "\n",
        "(ii) All even numbers\n",
        "\n",
        "(iii) All prime numbers"
      ],
      "metadata": {
        "id": "JkGksrND1_nh"
      }
    },
    {
      "cell_type": "code",
      "source": [
        "import random\n",
        "\n",
        "# Create a list of 100 random numbers between 100 and 900\n",
        "numbers = [random.randint(100, 900) for i in range(100)]\n",
        "\n",
        "#All odd numbers\n",
        "odd_numbers = [x for x in numbers if x % 2 != 0]\n",
        "print(\"Odd numbers:\", odd_numbers)\n",
        "print(\"Count of odd=\", len(odd_numbers))\n",
        "\n",
        "#All even numbers\n",
        "even_numbers= [x for x in numbers if x % 2 == 0]\n",
        "print(\"Even numbers:\", even_numbers)\n",
        "print(\"Count of even =\", len(even_numbers))\n",
        "\n",
        "#All prime numbers\n",
        "def isprime(n):\n",
        "    if n < 2:\n",
        "        return False\n",
        "    for i in range(2, int(n//2) + 1):\n",
        "        if n % i == 0:\n",
        "            return False\n",
        "    return True\n",
        "\n",
        "primenumbers = [x for x in numbers if isprime(x)]\n",
        "print(\"Prime numbers=\", primenumbers)\n",
        "print(\"Count of prime numbers=\", len(primenumbers))\n",
        "\n",
        "\n",
        "\n"
      ],
      "metadata": {
        "colab": {
          "base_uri": "https://localhost:8080/"
        },
        "id": "r_WF4Sb52Jut",
        "outputId": "c09e1580-5a21-4406-ab37-0397d7aa2d73"
      },
      "execution_count": 20,
      "outputs": [
        {
          "output_type": "stream",
          "name": "stdout",
          "text": [
            "Odd numbers: [257, 855, 657, 333, 363, 843, 631, 501, 839, 583, 279, 811, 393, 325, 315, 695, 281, 619, 469, 791, 885, 333, 425, 287, 325, 715, 531, 281, 643, 839, 177, 171, 367, 527, 291, 597, 371, 883, 457, 785, 719, 259]\n",
            "Count of odd= 42\n",
            "Even numbers: [184, 742, 138, 480, 172, 652, 604, 548, 816, 482, 572, 144, 148, 390, 184, 402, 804, 230, 244, 552, 100, 244, 780, 348, 366, 150, 154, 652, 544, 428, 624, 314, 588, 120, 780, 746, 758, 798, 118, 670, 728, 532, 148, 504, 232, 346, 390, 856, 172, 330, 290, 296, 216, 124, 682, 842, 728, 426]\n",
            "Count of even = 58\n",
            "Prime numbers= [257, 631, 839, 811, 281, 619, 281, 643, 839, 367, 883, 457, 719]\n",
            "Count of prime numbers= 13\n"
          ]
        }
      ]
    },
    {
      "cell_type": "markdown",
      "source": [
        "Q7. D is a dictionary defined as D={1:\"One\",2:\"Two\",3:\"Three\",4:\"Four\", 5:\"Five\"}.\n",
        "\n",
        "WAP to read all the keys and values from dictionary and write to the file in the given below format.\n",
        "\n",
        "Key1, Value1\n",
        "\n",
        "Key2, Value2\n",
        "\n",
        "Key3, Value3\n"
      ],
      "metadata": {
        "id": "JMcVZ_723MsM"
      }
    },
    {
      "cell_type": "code",
      "source": [
        "D = {1: \"One\", 2: \"Two\", 3: \"Three\", 4: \"Four\", 5: \"Five\"}\n",
        "\n",
        "#Open the file in write mode\n",
        "file = open(\"output.txt\", \"w\")\n",
        "\n",
        "#Loop through the dictionary and write key-value pairs\n",
        "for key, value in D.items():\n",
        "    file.write(f\"{key}, {value}\\n\")\n",
        "\n",
        "#close the file\n",
        "file.close()\n",
        "\n",
        "print(\"Data has been written to 'output.txt'\")\n",
        "\n"
      ],
      "metadata": {
        "colab": {
          "base_uri": "https://localhost:8080/"
        },
        "id": "Ygyk_Jfp3TkV",
        "outputId": "904a8f88-db92-4113-c986-4bb1e9c03254"
      },
      "execution_count": 23,
      "outputs": [
        {
          "output_type": "stream",
          "name": "stdout",
          "text": [
            "Data has been written to 'output.txt'\n"
          ]
        }
      ]
    },
    {
      "cell_type": "markdown",
      "source": [
        "Q8. Write to the file 100 random strings whose length between 10 and 15.\n"
      ],
      "metadata": {
        "id": "NvMZUzWl4w2f"
      }
    },
    {
      "cell_type": "code",
      "source": [
        "import random\n",
        "import string\n",
        "\n",
        "fp = open('random_strings.txt', 'w')\n",
        "\n",
        "#loop\n",
        "for i in range(100):\n",
        "    length = random.randint(10, 15)  # Random length for the string\n",
        "    rand_str = ''.join(random.choices(string.ascii_letters + string.digits, k=length))  # Generate the random string\n",
        "    fp.write(rand_str + \"\\n\")  # Write the string to the file with a newline\n",
        "\n",
        "fp.close()\n",
        "\n",
        "print(\"completed \\nOpen random_strings.txt to view the content\")\n"
      ],
      "metadata": {
        "colab": {
          "base_uri": "https://localhost:8080/"
        },
        "id": "_mnLYJxn4y2X",
        "outputId": "70d436a6-f3eb-46ff-ef6f-7e950231ff02"
      },
      "execution_count": 25,
      "outputs": [
        {
          "output_type": "stream",
          "name": "stdout",
          "text": [
            "completed \n",
            "Open random_strings.txt to view the content\n"
          ]
        }
      ]
    },
    {
      "cell_type": "markdown",
      "source": [
        "Q9. Write to the file all prime numbers between 600 and 800.\n"
      ],
      "metadata": {
        "id": "W4OXbK_s59Oa"
      }
    },
    {
      "cell_type": "code",
      "source": [
        "#prime no. checking\n",
        "def is_prime(n):\n",
        "    if n <= 1:\n",
        "        return False\n",
        "    for i in range(2, int(n//2) + 1):\n",
        "        if n % i == 0:\n",
        "            return False\n",
        "    return True\n",
        "\n",
        "#openning file in write mode\n",
        "fp = open('prime_numbers.txt', 'w')\n",
        "\n",
        "# Loop through the numbers from 600 to 800\n",
        "for num in range(600, 801):\n",
        "    if is_prime(num):  #function call\n",
        "        fp.write(str(num) + \"\\n\")  # Writing the prime no. in file\n",
        "\n",
        "fp.close()\n",
        "\n",
        "print(\"Prime numbers between 600 and 800 have been written to 'prime_numbers.txt'\")\n"
      ],
      "metadata": {
        "colab": {
          "base_uri": "https://localhost:8080/"
        },
        "id": "taJ2qvud6HJo",
        "outputId": "47bc1a70-cf28-4517-bacb-1fb126a4adec"
      },
      "execution_count": 26,
      "outputs": [
        {
          "output_type": "stream",
          "name": "stdout",
          "text": [
            "Prime numbers between 600 and 800 have been written to 'prime_numbers.txt'\n"
          ]
        }
      ]
    }
  ]
}